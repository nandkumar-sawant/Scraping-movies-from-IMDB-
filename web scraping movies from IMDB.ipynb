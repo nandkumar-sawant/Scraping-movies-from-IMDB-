{
 "cells": [
  {
   "cell_type": "markdown",
   "id": "356b55ea",
   "metadata": {},
   "source": [
    "## Scraping Top 100 movies from IMDB"
   ]
  },
  {
   "cell_type": "code",
   "execution_count": 1,
   "id": "7239b1db",
   "metadata": {},
   "outputs": [],
   "source": [
    "# importing required libraries\n",
    "import pandas as pd\n",
    "from bs4 import BeautifulSoup as bs\n",
    "import requests"
   ]
  },
  {
   "cell_type": "code",
   "execution_count": 2,
   "id": "73e7bc13",
   "metadata": {},
   "outputs": [
    {
     "data": {
      "text/plain": [
       "<Response [200]>"
      ]
     },
     "execution_count": 2,
     "metadata": {},
     "output_type": "execute_result"
    }
   ],
   "source": [
    "# sending get request to url \n",
    "url='https://www.imdb.com/search/title/?count=100&groups=top_1000&sort=user_rating'\n",
    "response = requests.get(url)\n",
    "response"
   ]
  },
  {
   "cell_type": "code",
   "execution_count": 3,
   "id": "cc9a1aa7",
   "metadata": {},
   "outputs": [],
   "source": [
    "# pull data out of html \n",
    "soup=bs(response.content,'html.parser')"
   ]
  },
  {
   "cell_type": "code",
   "execution_count": 4,
   "id": "58eb3f62",
   "metadata": {},
   "outputs": [],
   "source": [
    "#creating an empty list\n",
    "movie_name = []\n",
    "year_of_release = []\n",
    "time = []\n",
    "rating = []\n",
    "metascore = []"
   ]
  },
  {
   "cell_type": "code",
   "execution_count": 5,
   "id": "f95dd146",
   "metadata": {},
   "outputs": [],
   "source": [
    "#storing required data in the variable\n",
    "data = soup.findAll('div', attrs= {'class': 'lister-item mode-advanced'})   # div name of tag, attrs is attributes"
   ]
  },
  {
   "cell_type": "code",
   "execution_count": 6,
   "id": "b8c47e6d",
   "metadata": {},
   "outputs": [],
   "source": [
    "#calling one by one using for loop\n",
    "for store in data:\n",
    "     name = store.h3.a.text\n",
    "     movie_name.append(name)\n",
    "    \n",
    "     year = store.h3.find('span', class_ = 'lister-item-year text-muted unbold').text.replace('(', '').replace(')', '')\n",
    "     year_of_release.append(year)\n",
    "    \n",
    "     runtime = store.p.find('span', class_ = 'runtime').text.replace(' min', '')\n",
    "     time.append(runtime)\n",
    "    \n",
    "     rate = store.find('div', class_ = 'inline-block ratings-imdb-rating').text.replace('\\n', '')\n",
    "     rating.append(rate)\n",
    "    \n",
    "     meta = store.find('span', class_ = 'metascore favorable').text.replace(' ', '') if store.find('span', class_ = 'metascore favorable') else'NA'\n",
    "     metascore.append(meta)\n",
    "    "
   ]
  },
  {
   "cell_type": "code",
   "execution_count": 7,
   "id": "493c28c7",
   "metadata": {},
   "outputs": [
    {
     "data": {
      "text/html": [
       "<div>\n",
       "<style scoped>\n",
       "    .dataframe tbody tr th:only-of-type {\n",
       "        vertical-align: middle;\n",
       "    }\n",
       "\n",
       "    .dataframe tbody tr th {\n",
       "        vertical-align: top;\n",
       "    }\n",
       "\n",
       "    .dataframe thead th {\n",
       "        text-align: right;\n",
       "    }\n",
       "</style>\n",
       "<table border=\"1\" class=\"dataframe\">\n",
       "  <thead>\n",
       "    <tr style=\"text-align: right;\">\n",
       "      <th></th>\n",
       "      <th>Name of movie</th>\n",
       "      <th>Year of release</th>\n",
       "      <th>Watchtime</th>\n",
       "      <th>Movie Rating</th>\n",
       "      <th>Metascore</th>\n",
       "    </tr>\n",
       "  </thead>\n",
       "  <tbody>\n",
       "    <tr>\n",
       "      <th>0</th>\n",
       "      <td>The Shawshank Redemption</td>\n",
       "      <td>1994</td>\n",
       "      <td>142</td>\n",
       "      <td>9.3</td>\n",
       "      <td>81</td>\n",
       "    </tr>\n",
       "    <tr>\n",
       "      <th>1</th>\n",
       "      <td>The Godfather</td>\n",
       "      <td>1972</td>\n",
       "      <td>175</td>\n",
       "      <td>9.2</td>\n",
       "      <td>100</td>\n",
       "    </tr>\n",
       "    <tr>\n",
       "      <th>2</th>\n",
       "      <td>The Dark Knight</td>\n",
       "      <td>2008</td>\n",
       "      <td>152</td>\n",
       "      <td>9.0</td>\n",
       "      <td>84</td>\n",
       "    </tr>\n",
       "    <tr>\n",
       "      <th>3</th>\n",
       "      <td>The Lord of the Rings: The Return of the King</td>\n",
       "      <td>2003</td>\n",
       "      <td>201</td>\n",
       "      <td>9.0</td>\n",
       "      <td>94</td>\n",
       "    </tr>\n",
       "    <tr>\n",
       "      <th>4</th>\n",
       "      <td>Schindler's List</td>\n",
       "      <td>1993</td>\n",
       "      <td>195</td>\n",
       "      <td>9.0</td>\n",
       "      <td>94</td>\n",
       "    </tr>\n",
       "    <tr>\n",
       "      <th>...</th>\n",
       "      <td>...</td>\n",
       "      <td>...</td>\n",
       "      <td>...</td>\n",
       "      <td>...</td>\n",
       "      <td>...</td>\n",
       "    </tr>\n",
       "    <tr>\n",
       "      <th>95</th>\n",
       "      <td>Drishyam</td>\n",
       "      <td>2013</td>\n",
       "      <td>160</td>\n",
       "      <td>8.3</td>\n",
       "      <td>NA</td>\n",
       "    </tr>\n",
       "    <tr>\n",
       "      <th>96</th>\n",
       "      <td>Jagten</td>\n",
       "      <td>2012</td>\n",
       "      <td>115</td>\n",
       "      <td>8.3</td>\n",
       "      <td>77</td>\n",
       "    </tr>\n",
       "    <tr>\n",
       "      <th>97</th>\n",
       "      <td>Jodaeiye Nader az Simin</td>\n",
       "      <td>2011</td>\n",
       "      <td>123</td>\n",
       "      <td>8.3</td>\n",
       "      <td>95</td>\n",
       "    </tr>\n",
       "    <tr>\n",
       "      <th>98</th>\n",
       "      <td>Incendies</td>\n",
       "      <td>2010</td>\n",
       "      <td>131</td>\n",
       "      <td>8.3</td>\n",
       "      <td>80</td>\n",
       "    </tr>\n",
       "    <tr>\n",
       "      <th>99</th>\n",
       "      <td>Spider-Man: No Way Home</td>\n",
       "      <td>2021</td>\n",
       "      <td>148</td>\n",
       "      <td>8.3</td>\n",
       "      <td>71</td>\n",
       "    </tr>\n",
       "  </tbody>\n",
       "</table>\n",
       "<p>100 rows × 5 columns</p>\n",
       "</div>"
      ],
      "text/plain": [
       "                                    Name of movie Year of release Watchtime  \\\n",
       "0                        The Shawshank Redemption            1994       142   \n",
       "1                                   The Godfather            1972       175   \n",
       "2                                 The Dark Knight            2008       152   \n",
       "3   The Lord of the Rings: The Return of the King            2003       201   \n",
       "4                                Schindler's List            1993       195   \n",
       "..                                            ...             ...       ...   \n",
       "95                                       Drishyam            2013       160   \n",
       "96                                         Jagten            2012       115   \n",
       "97                        Jodaeiye Nader az Simin            2011       123   \n",
       "98                                      Incendies            2010       131   \n",
       "99                        Spider-Man: No Way Home            2021       148   \n",
       "\n",
       "   Movie Rating Metascore  \n",
       "0           9.3        81  \n",
       "1           9.2       100  \n",
       "2           9.0        84  \n",
       "3           9.0        94  \n",
       "4           9.0        94  \n",
       "..          ...       ...  \n",
       "95          8.3        NA  \n",
       "96          8.3        77  \n",
       "97          8.3        95  \n",
       "98          8.3        80  \n",
       "99          8.3        71  \n",
       "\n",
       "[100 rows x 5 columns]"
      ]
     },
     "execution_count": 7,
     "metadata": {},
     "output_type": "execute_result"
    }
   ],
   "source": [
    "# creating dataframe\n",
    "movie_df = pd.DataFrame({'Name of movie': movie_name, 'Year of release': year_of_release, 'Watchtime': time, 'Movie Rating': rating, 'Metascore': metascore})\n",
    "movie_df"
   ]
  },
  {
   "cell_type": "code",
   "execution_count": 8,
   "id": "378e7812",
   "metadata": {},
   "outputs": [],
   "source": [
    "#Saving data in Excel file:\n",
    "movie_df.to_excel(\"Top_IMDB_movies.xlsx\")"
   ]
  },
  {
   "cell_type": "markdown",
   "id": "461ea3bc",
   "metadata": {},
   "source": [
    "## Thank you.."
   ]
  }
 ],
 "metadata": {
  "kernelspec": {
   "display_name": "Python 3 (ipykernel)",
   "language": "python",
   "name": "python3"
  },
  "language_info": {
   "codemirror_mode": {
    "name": "ipython",
    "version": 3
   },
   "file_extension": ".py",
   "mimetype": "text/x-python",
   "name": "python",
   "nbconvert_exporter": "python",
   "pygments_lexer": "ipython3",
   "version": "3.10.2"
  }
 },
 "nbformat": 4,
 "nbformat_minor": 5
}
